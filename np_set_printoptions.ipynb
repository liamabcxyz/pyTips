{
 "cells": [
  {
   "cell_type": "code",
   "execution_count": 1,
   "id": "intended-chamber",
   "metadata": {},
   "outputs": [
    {
     "data": {
      "text/plain": [
       "array([1.1235])"
      ]
     },
     "execution_count": 1,
     "metadata": {},
     "output_type": "execute_result"
    }
   ],
   "source": [
    "import numpy as np\n",
    "\n",
    "# Floating point precision can be set:\n",
    "a=1.123456789\n",
    "np.set_printoptions(precision=4)\n",
    "np.array([a])"
   ]
  },
  {
   "cell_type": "code",
   "execution_count": 2,
   "id": "isolated-essex",
   "metadata": {},
   "outputs": [
    {
     "data": {
      "text/plain": [
       "array([0, 1, 2, ..., 7, 8, 9])"
      ]
     },
     "execution_count": 2,
     "metadata": {},
     "output_type": "execute_result"
    }
   ],
   "source": [
    "# Long arrays can be summarised:\n",
    "np.set_printoptions(threshold=5)\n",
    "np.arange(10)\n",
    "\n"
   ]
  },
  {
   "cell_type": "code",
   "execution_count": 3,
   "id": "defined-party",
   "metadata": {},
   "outputs": [
    {
     "data": {
      "text/plain": [
       "array([0, 1, 2, 3, 4, 5, 6, 7, 8, 9])"
      ]
     },
     "execution_count": 3,
     "metadata": {},
     "output_type": "execute_result"
    }
   ],
   "source": [
    "# Small results can be suppressed:\n",
    "np.set_printoptions(threshold=10)\n",
    "np.arange(10)"
   ]
  },
  {
   "cell_type": "code",
   "execution_count": 4,
   "id": "warming-liberia",
   "metadata": {},
   "outputs": [
    {
     "name": "stdout",
     "output_type": "stream",
     "text": [
      "[-4.9304e-32 -4.4409e-16  0.0000e+00  0.0000e+00]\n",
      "[-0. -0.  0.  0.]\n"
     ]
    }
   ],
   "source": [
    "# A custom formatter can be used to display array elements as desired:\n",
    "eps = np.finfo(float).eps\n",
    "x = np.arange(4.)\n",
    "print(x**2 - (x + eps)**2)\n",
    "\n",
    "np.set_printoptions(suppress=True)\n",
    "print(x**2 - (x + eps)**2)\n"
   ]
  },
  {
   "cell_type": "code",
   "execution_count": 5,
   "id": "handled-schema",
   "metadata": {},
   "outputs": [],
   "source": [
    "# To put back the default options, you can use:\n",
    "np.set_printoptions(edgeitems=3, infstr='inf',\n",
    "linewidth=75, nanstr='nan', precision=8,\n",
    "suppress=False, threshold=1000, formatter=None)"
   ]
  },
  {
   "cell_type": "code",
   "execution_count": 6,
   "id": "straight-florist",
   "metadata": {},
   "outputs": [
    {
     "name": "stdout",
     "output_type": "stream",
     "text": [
      "[ 0.    1.11  2.22 ...  7.78  8.89 10.  ]\n"
     ]
    }
   ],
   "source": [
    "# Also to temporarily override options, use printoptions as a context manager:\n",
    "with np.printoptions(precision=2, suppress=True, threshold=5):\n",
    "    print(np.linspace(0, 10, 10))"
   ]
  },
  {
   "cell_type": "code",
   "execution_count": null,
   "id": "guilty-challenge",
   "metadata": {},
   "outputs": [],
   "source": []
  }
 ],
 "metadata": {
  "kernelspec": {
   "display_name": "Python 3",
   "language": "python",
   "name": "python3"
  },
  "language_info": {
   "codemirror_mode": {
    "name": "ipython",
    "version": 3
   },
   "file_extension": ".py",
   "mimetype": "text/x-python",
   "name": "python",
   "nbconvert_exporter": "python",
   "pygments_lexer": "ipython3",
   "version": "3.8.8"
  }
 },
 "nbformat": 4,
 "nbformat_minor": 5
}
